{
  "cells": [
    {
      "cell_type": "markdown",
      "id": "82989da9",
      "metadata": {
        "id": "82989da9"
      },
      "source": [
        "# Statistics Basics - Assignment\n"
      ]
    },
    {
      "cell_type": "markdown",
      "id": "e318f296",
      "metadata": {
        "id": "e318f296"
      },
      "source": [
        "### Question 1: What is the difference between descriptive statistics and inferential statistics? Explain with examples."
      ]
    },
    {
      "cell_type": "markdown",
      "id": "e1f5a56d",
      "metadata": {
        "id": "e1f5a56d"
      },
      "source": [
        "**Answer:**\n",
        "\n",
        "- **Descriptive Statistics**: Summarize and describe the main features of a dataset using measures like mean, median, mode, standard deviation, histograms, etc.\n",
        "  - Example: Calculating the average marks of students in a class.\n",
        "\n",
        "- **Inferential Statistics**: Make predictions or inferences about a population using a sample of data, often involving hypothesis testing, regression, and confidence intervals.\n",
        "  - Example: Predicting election results based on a survey of 1,000 voters."
      ]
    },
    {
      "cell_type": "markdown",
      "id": "77ba0325",
      "metadata": {
        "id": "77ba0325"
      },
      "source": [
        "### Question 2: What is sampling in statistics? Explain the differences between random and stratified sampling."
      ]
    },
    {
      "cell_type": "markdown",
      "id": "848e3d5f",
      "metadata": {
        "id": "848e3d5f"
      },
      "source": [
        "**Answer:**\n",
        "\n",
        "- **Sampling**: Selecting a subset of data from a population to analyze, since analyzing the entire population is often impractical.\n",
        "- **Random Sampling**: Each individual has an equal chance of being chosen. Example: randomly selecting 50 students from a school.\n",
        "- **Stratified Sampling**: The population is divided into groups (strata) based on characteristics, and samples are taken proportionally from each. Example: dividing students into male and female groups, then sampling proportionally from both."
      ]
    },
    {
      "cell_type": "markdown",
      "id": "3c491bd6",
      "metadata": {
        "id": "3c491bd6"
      },
      "source": [
        "### Question 3: Define mean, median, and mode. Explain why these measures of central tendency are important."
      ]
    },
    {
      "cell_type": "markdown",
      "id": "f7351980",
      "metadata": {
        "id": "f7351980"
      },
      "source": [
        "**Answer:**\n",
        "\n",
        "- **Mean**: Arithmetic average of all values.\n",
        "- **Median**: Middle value when data is sorted.\n",
        "- **Mode**: Most frequent value.\n",
        "\n",
        "**Importance**: These measures represent the central or typical value of a dataset. Mean gives overall average, median is robust to outliers, and mode shows the most common value."
      ]
    },
    {
      "cell_type": "markdown",
      "id": "e2d1fe42",
      "metadata": {
        "id": "e2d1fe42"
      },
      "source": [
        "### Question 4: Explain skewness and kurtosis. What does a positive skew imply about the data?"
      ]
    },
    {
      "cell_type": "markdown",
      "id": "d3d9716a",
      "metadata": {
        "id": "d3d9716a"
      },
      "source": [
        "**Answer:**\n",
        "\n",
        "- **Skewness**: Measure of asymmetry.\n",
        "  - Positive skew: Long right tail → many small values and a few large values.\n",
        "  - Negative skew: Long left tail.\n",
        "- **Kurtosis**: Measure of 'peakedness'.\n",
        "  - High kurtosis: More outliers.\n",
        "  - Low kurtosis: Fewer outliers.\n",
        "\n",
        "**Positive skew implies** most data is clustered at lower values with some high values pulling the mean right."
      ]
    },
    {
      "cell_type": "markdown",
      "id": "505f2941",
      "metadata": {
        "id": "505f2941"
      },
      "source": [
        "### Question 5: Implement a Python program to compute the mean, median, and mode of a given list of numbers.\n",
        "```python\n",
        "numbers = [12, 15, 12, 18, 19, 12, 20, 22, 19, 19, 24, 24, 24, 26, 28]\n",
        "```"
      ]
    },
    {
      "cell_type": "code",
      "execution_count": 1,
      "id": "bb925252",
      "metadata": {
        "colab": {
          "base_uri": "https://localhost:8080/"
        },
        "id": "bb925252",
        "outputId": "0c7f0aed-bdba-4978-e8d4-b826812f8a87"
      },
      "outputs": [
        {
          "output_type": "stream",
          "name": "stdout",
          "text": [
            "Mean: 19.6\n",
            "Median: 19\n",
            "Mode: 12\n"
          ]
        }
      ],
      "source": [
        "import statistics\n",
        "\n",
        "numbers = [12, 15, 12, 18, 19, 12, 20, 22, 19, 19, 24, 24, 24, 26, 28]\n",
        "print('Mean:', statistics.mean(numbers))\n",
        "print('Median:', statistics.median(numbers))\n",
        "print('Mode:', statistics.mode(numbers))"
      ]
    },
    {
      "cell_type": "markdown",
      "id": "6836eb82",
      "metadata": {
        "id": "6836eb82"
      },
      "source": [
        "### Question 6: Compute the covariance and correlation coefficient between the two datasets.\n",
        "```python\n",
        "list_x = [10, 20, 30, 40, 50]\n",
        "list_y = [15, 25, 35, 45, 60]\n",
        "```"
      ]
    },
    {
      "cell_type": "code",
      "execution_count": 2,
      "id": "d9db8535",
      "metadata": {
        "colab": {
          "base_uri": "https://localhost:8080/"
        },
        "id": "d9db8535",
        "outputId": "3a545848-a4c1-4e66-df9b-a525175bdef4"
      },
      "outputs": [
        {
          "output_type": "stream",
          "name": "stdout",
          "text": [
            "Covariance: 220.0\n",
            "Correlation: 0.995893206467704\n"
          ]
        }
      ],
      "source": [
        "import numpy as np\n",
        "\n",
        "list_x = [10, 20, 30, 40, 50]\n",
        "list_y = [15, 25, 35, 45, 60]\n",
        "\n",
        "cov = np.cov(list_x, list_y, bias=True)[0][1]\n",
        "corr = np.corrcoef(list_x, list_y)[0][1]\n",
        "\n",
        "print('Covariance:', cov)\n",
        "print('Correlation:', corr)"
      ]
    },
    {
      "cell_type": "markdown",
      "id": "16fb6a78",
      "metadata": {
        "id": "16fb6a78"
      },
      "source": [
        "### Question 7: Write a Python script to draw a boxplot for the given data and identify its outliers.\n",
        "```python\n",
        "data = [12, 14, 14, 15, 18, 19, 19, 21, 22, 22, 23, 23, 24, 26, 29, 35]\n",
        "```"
      ]
    },
    {
      "cell_type": "code",
      "execution_count": 3,
      "id": "8f8bee43",
      "metadata": {
        "colab": {
          "base_uri": "https://localhost:8080/",
          "height": 452
        },
        "id": "8f8bee43",
        "outputId": "62b80ed2-3a28-4387-edb2-f861ded1171b"
      },
      "outputs": [
        {
          "output_type": "display_data",
          "data": {
            "text/plain": [
              "<Figure size 640x480 with 1 Axes>"
            ],
            "image/png": "[encoded data removed]"
          },
          "metadata": {}
        }
      ],
      "source": [
        "import matplotlib.pyplot as plt\n",
        "\n",
        "data = [12, 14, 14, 15, 18, 19, 19, 21, 22, 22, 23, 23, 24, 26, 29, 35]\n",
        "plt.boxplot(data)\n",
        "plt.title('Boxplot of Data')\n",
        "plt.show()"
      ]
    },
    {
      "cell_type": "markdown",
      "id": "f105567e",
      "metadata": {
        "id": "f105567e"
      },
      "source": [
        "### Question 8: Relationship between advertising spend and daily sales.\n",
        "\n",
        "- **Covariance**: Shows whether two variables move together.\n",
        "- **Correlation**: Measures strength and direction of their relationship.\n",
        "\n",
        "```python\n",
        "advertising_spend = [200, 250, 300, 400, 500]\n",
        "daily_sales = [2200, 2450, 2750, 3200, 4000]\n",
        "```"
      ]
    },
    {
      "cell_type": "code",
      "execution_count": 4,
      "id": "4f9cb162",
      "metadata": {
        "colab": {
          "base_uri": "https://localhost:8080/"
        },
        "id": "4f9cb162",
        "outputId": "6cb10830-ff8b-45e0-d2c9-c67e6ba82e81"
      },
      "outputs": [
        {
          "output_type": "stream",
          "name": "stdout",
          "text": [
            "Correlation: 0.9935824101653329\n"
          ]
        }
      ],
      "source": [
        "advertising_spend = [200, 250, 300, 400, 500]\n",
        "daily_sales = [2200, 2450, 2750, 3200, 4000]\n",
        "\n",
        "corr = np.corrcoef(advertising_spend, daily_sales)[0][1]\n",
        "print('Correlation:', corr)"
      ]
    },
    {
      "cell_type": "markdown",
      "id": "6e0b4a17",
      "metadata": {
        "id": "6e0b4a17"
      },
      "source": [
        "### Question 9: Customer satisfaction survey analysis.\n",
        "\n",
        "We use **mean, median, standard deviation** to summarize data and **histogram** to visualize distribution.\n",
        "\n",
        "```python\n",
        "survey_scores = [7, 8, 5, 9, 6, 7, 8, 9, 10, 4, 7, 6, 9, 8, 7]\n",
        "```"
      ]
    },
    {
      "cell_type": "code",
      "execution_count": 5,
      "id": "858e7f0e",
      "metadata": {
        "colab": {
          "base_uri": "https://localhost:8080/",
          "height": 472
        },
        "id": "858e7f0e",
        "outputId": "de0c4d56-d443-4add-e778-3fde332269b9"
      },
      "outputs": [
        {
          "output_type": "display_data",
          "data": {
            "text/plain": [
              "<Figure size 640x480 with 1 Axes>"
            ],
            "image/png": "[encoded data removed]"
          },
          "metadata": {}
        }
      ],
      "source": [
        "survey_scores = [7, 8, 5, 9, 6, 7, 8, 9, 10, 4, 7, 6, 9, 8, 7]\n",
        "import matplotlib.pyplot as plt\n",
        "plt.hist(survey_scores, bins=6, edgecolor='black')\n",
        "plt.xlabel('Score')\n",
        "plt.ylabel('Frequency')\n",
        "plt.title('Customer Satisfaction Survey Histogram')\n",
        "plt.show()"
      ]
    }
  ],
  "metadata": {
    "colab": {
      "provenance": []
    },
    "language_info": {
      "name": "python"
    },
    "kernelspec": {
      "name": "python3",
      "display_name": "Python 3"
    }
  },
  "nbformat": 4,
  "nbformat_minor": 5
}